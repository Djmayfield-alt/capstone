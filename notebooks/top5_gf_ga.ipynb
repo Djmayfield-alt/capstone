{
 "cells": [
  {
   "cell_type": "code",
   "execution_count": 1,
   "id": "a9498f9c-d94d-4363-8d6a-cdc739ab3337",
   "metadata": {},
   "outputs": [],
   "source": [
    "import pandas as pd\n",
    "import numpy as np\n",
    "import matplotlib.pyplot as plt\n",
    "import seaborn as sns"
   ]
  },
  {
   "cell_type": "markdown",
   "id": "def49679-1c11-4a36-a5b0-002b106ae92c",
   "metadata": {},
   "source": [
    "# This notebokk consists of my work towards finding any correlation to top 5 Goals For and Against in the regular season and making it to the cup "
   ]
  },
  {
   "cell_type": "code",
   "execution_count": 4,
   "id": "827ea028-e505-4920-aa29-2dc00c390088",
   "metadata": {},
   "outputs": [],
   "source": [
    "s2015 = pd.read_csv('../data/s2015.csv')\n",
    "s2016 = pd.read_csv('../data/s2016.csv')\n",
    "s2017 = pd.read_csv('../data/s2017.csv')\n",
    "s2018 = pd.read_csv('../data/s2018.csv')\n",
    "s2019 = pd.read_csv('../data/s2019.csv')\n",
    "s2022 = pd.read_csv('../data/s2022.csv')\n",
    "s2023 = pd.read_csv('../data/s2023.csv')\n",
    "s2024 = pd.read_csv('../data/s2024.csv')\n",
    "s2025 = pd.read_csv('../data/s2025.csv')"
   ]
  },
  {
   "cell_type": "code",
   "execution_count": 6,
   "id": "b8923f2f-d40a-4c98-9335-156726c8e31d",
   "metadata": {},
   "outputs": [],
   "source": [
    "playoff2015 = pd.read_csv('../data/playoff2015.csv')\n",
    "playoff2016 = pd.read_csv('../data/playoff2016.csv')\n",
    "playoff2017 = pd.read_csv('../data/playoff2017.csv')\n",
    "playoff2018 = pd.read_csv('../data/playoff2018.csv')\n",
    "playoff2019 = pd.read_csv('../data/playoff2019.csv')\n",
    "playoff2022 = pd.read_csv('../data/playoff2022.csv')\n",
    "playoff2023 = pd.read_csv('../data/playoff2023.csv')\n",
    "playoff2024 = pd.read_csv('../data/playoff2024.csv')\n",
    "playoff2025 = pd.read_csv('../data/playoff2025.csv')"
   ]
  },
  {
   "cell_type": "code",
   "execution_count": 8,
   "id": "cf3b66b4-1654-412b-8499-07adae4190bf",
   "metadata": {},
   "outputs": [],
   "source": [
    "finalists2015 = playoff2015.head(2)\n",
    "finalists2016 = playoff2016.head(2)\n",
    "finalists2017 = playoff2017.head(2)\n",
    "finalists2018 = playoff2018.head(2)\n",
    "finalists2019 = playoff2019.head(2)\n",
    "finalists2022 = playoff2022.head(2)\n",
    "finalists2023 = playoff2023.head(2)\n",
    "finalists2024 = playoff2024.head(2)\n",
    "finalists2025 = playoff2025.head(2)"
   ]
  },
  {
   "cell_type": "code",
   "execution_count": null,
   "id": "1dc77c82-acf9-490f-af80-ce5d69be4549",
   "metadata": {},
   "outputs": [],
   "source": []
  }
 ],
 "metadata": {
  "kernelspec": {
   "display_name": "Python 3 (ipykernel)",
   "language": "python",
   "name": "python3"
  },
  "language_info": {
   "codemirror_mode": {
    "name": "ipython",
    "version": 3
   },
   "file_extension": ".py",
   "mimetype": "text/x-python",
   "name": "python",
   "nbconvert_exporter": "python",
   "pygments_lexer": "ipython3",
   "version": "3.12.7"
  }
 },
 "nbformat": 4,
 "nbformat_minor": 5
}
