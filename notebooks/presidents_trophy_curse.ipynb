{
 "cells": [
  {
   "cell_type": "code",
   "execution_count": 1,
   "id": "56f4c128-4892-4d64-bdc8-4accdc7cdd3e",
   "metadata": {},
   "outputs": [],
   "source": [
    "import pandas as pd\n",
    "import numpy as np\n",
    "import matplotlib.pyplot as plt\n",
    "import seaborn as sns"
   ]
  },
  {
   "cell_type": "markdown",
   "id": "0c5f4ca9-ac81-4cc2-81f7-6a7bb5804ebe",
   "metadata": {},
   "source": [
    "# This is all my work to show how much of a curse the president's trophy is"
   ]
  },
  {
   "cell_type": "code",
   "execution_count": null,
   "id": "0fb9d613-c4d0-4a7f-9ddc-df4a185d3807",
   "metadata": {},
   "outputs": [],
   "source": []
  }
 ],
 "metadata": {
  "kernelspec": {
   "display_name": "Python 3 (ipykernel)",
   "language": "python",
   "name": "python3"
  },
  "language_info": {
   "codemirror_mode": {
    "name": "ipython",
    "version": 3
   },
   "file_extension": ".py",
   "mimetype": "text/x-python",
   "name": "python",
   "nbconvert_exporter": "python",
   "pygments_lexer": "ipython3",
   "version": "3.12.7"
  }
 },
 "nbformat": 4,
 "nbformat_minor": 5
}
